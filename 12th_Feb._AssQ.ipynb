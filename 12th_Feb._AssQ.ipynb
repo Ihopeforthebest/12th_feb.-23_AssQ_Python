{
 "cells": [
  {
   "cell_type": "code",
   "execution_count": 1,
   "id": "00938776-f074-4c25-91a8-ef9bfa7fb8db",
   "metadata": {},
   "outputs": [],
   "source": [
    "# Q1. What is an Exception in python? Write the difference between Exceptions\n",
    "# and Syntax errors."
   ]
  },
  {
   "cell_type": "code",
   "execution_count": 2,
   "id": "7160a0b1-5f02-4817-8afe-43f39aba71ca",
   "metadata": {},
   "outputs": [],
   "source": [
    "# A1. syntax errors occur during the parsing phase due to violations of Python's syntax rules, \n",
    "# while exceptions occur during program execution due to unexpected events or conditions. \n",
    "# Handling exceptions allows developers to write robust code that gracefully handles errors and prevents program crashes."
   ]
  },
  {
   "cell_type": "code",
   "execution_count": null,
   "id": "ae4fc1f6-30c6-48f5-bd06-b37ac524e9bd",
   "metadata": {},
   "outputs": [],
   "source": []
  },
  {
   "cell_type": "code",
   "execution_count": null,
   "id": "a92457ca-64e1-4ae4-aef5-fcc8270eeadc",
   "metadata": {},
   "outputs": [],
   "source": []
  },
  {
   "cell_type": "code",
   "execution_count": null,
   "id": "1ed24fa1-c1fe-438d-8740-a8ffc94c2eb5",
   "metadata": {},
   "outputs": [],
   "source": []
  },
  {
   "cell_type": "code",
   "execution_count": 3,
   "id": "ef5552e2-8483-48d6-b781-f253bc38ff6a",
   "metadata": {},
   "outputs": [],
   "source": [
    "# Q2. What happens when an exception is not handled? \n",
    "# Explain with an example."
   ]
  },
  {
   "cell_type": "code",
   "execution_count": 4,
   "id": "88e6ded4-b184-4756-bdac-3227b960ecf3",
   "metadata": {},
   "outputs": [
    {
     "ename": "ZeroDivisionError",
     "evalue": "division by zero",
     "output_type": "error",
     "traceback": [
      "\u001b[0;31m---------------------------------------------------------------------------\u001b[0m",
      "\u001b[0;31mZeroDivisionError\u001b[0m                         Traceback (most recent call last)",
      "Cell \u001b[0;32mIn[4], line 13\u001b[0m\n\u001b[1;32m     10\u001b[0m     \u001b[38;5;28;01mreturn\u001b[39;00m result\n\u001b[1;32m     12\u001b[0m \u001b[38;5;66;03m# Attempting to divide by zero\u001b[39;00m\n\u001b[0;32m---> 13\u001b[0m result \u001b[38;5;241m=\u001b[39m \u001b[43mdivide\u001b[49m\u001b[43m(\u001b[49m\u001b[38;5;241;43m10\u001b[39;49m\u001b[43m,\u001b[49m\u001b[43m \u001b[49m\u001b[38;5;241;43m0\u001b[39;49m\u001b[43m)\u001b[49m\n\u001b[1;32m     14\u001b[0m \u001b[38;5;28mprint\u001b[39m(\u001b[38;5;124m\"\u001b[39m\u001b[38;5;124mResult:\u001b[39m\u001b[38;5;124m\"\u001b[39m, result)\n",
      "Cell \u001b[0;32mIn[4], line 9\u001b[0m, in \u001b[0;36mdivide\u001b[0;34m(x, y)\u001b[0m\n\u001b[1;32m      8\u001b[0m \u001b[38;5;28;01mdef\u001b[39;00m \u001b[38;5;21mdivide\u001b[39m(x, y):\n\u001b[0;32m----> 9\u001b[0m     result \u001b[38;5;241m=\u001b[39m \u001b[43mx\u001b[49m\u001b[43m \u001b[49m\u001b[38;5;241;43m/\u001b[39;49m\u001b[43m \u001b[49m\u001b[43my\u001b[49m\n\u001b[1;32m     10\u001b[0m     \u001b[38;5;28;01mreturn\u001b[39;00m result\n",
      "\u001b[0;31mZeroDivisionError\u001b[0m: division by zero"
     ]
    }
   ],
   "source": [
    "# A2. When an exception is not handled in a program, it typically results in the termination of the program's execution. \n",
    "# When an exception occurs and is not caught or handled by the program, the runtime environment usually takes control \n",
    "# and terminates the program abruptly, displaying an error message or traceback to the user. \n",
    "# This behavior prevents the program from continuing its normal flow because the exception has not been addressed.\n",
    "\n",
    "# Here's an example in Python to illustrate what happens when an exception is not handled:\n",
    "\n",
    "def divide(x, y):\n",
    "    result = x / y\n",
    "    return result\n",
    "\n",
    "# Attempting to divide by zero\n",
    "result = divide(10, 0)\n",
    "print(\"Result:\", result)"
   ]
  },
  {
   "cell_type": "code",
   "execution_count": null,
   "id": "81c5c484-9606-4492-8eef-f70a9534b74e",
   "metadata": {},
   "outputs": [],
   "source": []
  },
  {
   "cell_type": "code",
   "execution_count": null,
   "id": "ecd6814f-b27b-4393-9f71-972a1b9d29a9",
   "metadata": {},
   "outputs": [],
   "source": []
  },
  {
   "cell_type": "code",
   "execution_count": null,
   "id": "90c9f239-ddf9-4f5d-8b8f-4c0d943f47df",
   "metadata": {},
   "outputs": [],
   "source": []
  },
  {
   "cell_type": "code",
   "execution_count": 5,
   "id": "0cd61bd7-240c-4cbe-9934-e9ccc78f8ee8",
   "metadata": {},
   "outputs": [],
   "source": [
    "# Q3. Which Python statements are used to catch and handle exceptions? Explain with an example"
   ]
  },
  {
   "cell_type": "code",
   "execution_count": 6,
   "id": "47461eb1-0e5b-4f7f-93f3-e65835853013",
   "metadata": {},
   "outputs": [
    {
     "name": "stdout",
     "output_type": "stream",
     "text": [
      "Cannot divide by zero!\n"
     ]
    }
   ],
   "source": [
    "# A3. In Python, the try and except statements are used to catch and handle exceptions. Here's how they work:\n",
    "\n",
    "try:\n",
    "    # Code block where an exception might occur\n",
    "    result = 10 / 0  # This will raise a ZeroDivisionError\n",
    "except ZeroDivisionError:\n",
    "    # Handle the exception that occurred\n",
    "    print(\"Cannot divide by zero!\")\n",
    "\n",
    "# Explanation:\n",
    "\n",
    "# The try block encloses the code where an exception might occur. In the example, the code 10 / 0 might raise a ZeroDivisionError.\n",
    "# If an exception occurs inside the try block, Python looks for an except block that matches the type of exception raised.\n",
    "# If the type of the raised exception matches the one specified in the except block (in this case ZeroDivisionError), \n",
    "# the code inside that except block is executed.\n",
    "# If the exception raised does not match any of the specified except blocks, it propagates up to the caller, or if not handled at all, \n",
    "# it will cause the program to terminate and display an error message.\n",
    "# In the provided example, if the division by zero occurs, instead of crashing the program with an unhandled exception, \n",
    "# the message \"Cannot divide by zero!\" will be printed. This provides a graceful way to handle exceptional situations in the code."
   ]
  },
  {
   "cell_type": "code",
   "execution_count": null,
   "id": "fbf53b8b-a11f-4380-acd8-9aac220643fc",
   "metadata": {},
   "outputs": [],
   "source": []
  },
  {
   "cell_type": "code",
   "execution_count": null,
   "id": "4a7a85aa-4f1a-4fc2-9022-be2e7ce5e7f8",
   "metadata": {},
   "outputs": [],
   "source": []
  },
  {
   "cell_type": "code",
   "execution_count": null,
   "id": "40924d2a-6c2d-4738-a8c1-14dd8cabe0ff",
   "metadata": {},
   "outputs": [],
   "source": []
  },
  {
   "cell_type": "code",
   "execution_count": 7,
   "id": "71f1553a-28d9-4e2d-b3ea-55892c74cda6",
   "metadata": {},
   "outputs": [],
   "source": [
    "# Q4. Explain with an example:-\n",
    "#     a) try and else\n",
    "#     b) finally\n",
    "#     c) raise"
   ]
  },
  {
   "cell_type": "code",
   "execution_count": 8,
   "id": "6f6bf409-46fd-4108-ab88-160a5b7d81b1",
   "metadata": {},
   "outputs": [],
   "source": [
    "# A4. a) try and else:\n",
    "\n",
    "# The try and else blocks in Python are used for exception handling. Code that might raise an exception is placed inside the try block, \n",
    "# and the code to handle the exception is placed inside the except block. The else block is executed if no exception occurs within the try block.\n",
    "\n",
    "\n",
    "# Example of try, except, else\n",
    "# try:\n",
    "#     x = int(input(\"Please enter a number: \"))\n",
    "# except ValueError:\n",
    "#     print(\"Oops!  That was not a valid number.\")\n",
    "# else:\n",
    "#     print(\"You entered:\", x)\n",
    "\n",
    "\n",
    "# In this example, if the user enters a valid number, it gets stored in the variable x, and the else block is executed, \n",
    "# printing the entered number. If the user enters something that cannot be converted to an integer, a ValueError exception is raised, \n",
    "# and the except block handles it, printing an error message.\n",
    "\n",
    "\n",
    "\n",
    "\n",
    "\n",
    "\n",
    "# b) finally:\n",
    "    \n",
    "# The finally block in Python is used to execute code regardless of whether an exception occurs or not. \n",
    "# It is typically used to perform cleanup actions, such as closing files or releasing resources.\n",
    "\n",
    "\n",
    "# Example of try, except, finally\n",
    "# try:\n",
    "#     f = open('example.txt', 'r')\n",
    "#     # Perform file operations\n",
    "# finally:\n",
    "#     f.close()  # This will always be executed\n",
    "\n",
    "\n",
    "# In this example, even if an exception occurs while reading the file or performing file operations, \n",
    "# the finally block ensures that the file is closed properly, preventing resource leaks.\n",
    "\n",
    "\n",
    "\n",
    "\n",
    "\n",
    "\n",
    "# c) raise:\n",
    "    \n",
    "# The raise statement in Python is used to explicitly raise an exception. \n",
    "# It allows you to create custom exceptions or to propagate exceptions that are caught but cannot be handled at the current level of code.\n",
    "\n",
    "\n",
    "# Example of raise\n",
    "# x = 10\n",
    "# if x > 5:\n",
    "#     raise Exception(\"x should not exceed 5. The value of x was: {}\".format(x))\n",
    "\n",
    "\n",
    "# In this example, if the value of x is greater than 5, it raises an exception with a custom error message. \n",
    "# This can be useful for enforcing certain conditions in your code or signaling unexpected situations.\n",
    "\n",
    "# These constructs work together to help manage exceptions and ensure the robustness of your Python code."
   ]
  },
  {
   "cell_type": "code",
   "execution_count": null,
   "id": "377e29bb-e95a-488f-9e6b-ff4bd87713fe",
   "metadata": {},
   "outputs": [],
   "source": []
  },
  {
   "cell_type": "code",
   "execution_count": null,
   "id": "368974f6-be71-437e-9c2f-000daefc3144",
   "metadata": {},
   "outputs": [],
   "source": []
  },
  {
   "cell_type": "code",
   "execution_count": null,
   "id": "47b55edf-34fa-42be-8645-7175c8e92c59",
   "metadata": {},
   "outputs": [],
   "source": []
  },
  {
   "cell_type": "code",
   "execution_count": 11,
   "id": "fad2634e-860f-4485-982b-74061bd11cd9",
   "metadata": {},
   "outputs": [],
   "source": [
    "# Q5. What are custom exceptions in Python? Why do we need them ? Explain with an example."
   ]
  },
  {
   "cell_type": "code",
   "execution_count": 12,
   "id": "dd5fa764-62c7-4c8c-8fc4-89f482488d53",
   "metadata": {},
   "outputs": [],
   "source": [
    "# A5. Custom exceptions in Python allow developers to create their own exception classes to handle specific error conditions in their programs. \n",
    "# They are useful when the built-in exception classes provided by Python are not sufficient to accurately describe an error condition, \n",
    "# or when you want to distinguish between different types of errors more precisely.\n",
    "\n",
    "# Here's why custom exceptions are useful:\n",
    "\n",
    "# Clarity: Custom exceptions can make your code more readable and understandable by providing descriptive names for specific error conditions.\n",
    "\n",
    "# Granularity: They allow you to handle different error scenarios separately, providing more granular control over error handling.\n",
    "\n",
    "# Modularity: Custom exceptions can be defined within your modules or packages, making it easier to organize and maintain your code.\n",
    "\n",
    "# Here's an example to illustrate the use of custom exceptions:\n",
    "\n",
    "\n",
    "\n",
    "\n",
    "# class WithdrawalError(Exception):\n",
    "#     \"\"\"Exception raised for errors in the withdrawal process.\"\"\"\n",
    "\n",
    "#     def __init__(self, balance, amount):\n",
    "#         self.balance = balance\n",
    "#         self.amount = amount\n",
    "#         super().__init__(f\"Insufficient balance ({balance}) to withdraw {amount}\")\n",
    "\n",
    "\n",
    "# class BankAccount:\n",
    "#     def __init__(self, balance):\n",
    "#         self.balance = balance\n",
    "\n",
    "#     def withdraw(self, amount):\n",
    "#         if amount > self.balance:\n",
    "#             raise WithdrawalError(self.balance, amount)\n",
    "#         else:\n",
    "#             self.balance -= amount\n",
    "#             print(f\"Withdrew {amount}. Remaining balance: {self.balance}\")\n",
    "\n",
    "\n",
    "# # Example usage:\n",
    "# try:\n",
    "#     account = BankAccount(100)\n",
    "#     account.withdraw(150)\n",
    "# except WithdrawalError as e:\n",
    "#     print(e)"
   ]
  },
  {
   "cell_type": "code",
   "execution_count": null,
   "id": "1450528d-9d28-40d9-9678-ccca72a70803",
   "metadata": {},
   "outputs": [],
   "source": []
  },
  {
   "cell_type": "code",
   "execution_count": null,
   "id": "fc08a290-fc23-4e62-9232-1e04fe3ca059",
   "metadata": {},
   "outputs": [],
   "source": []
  },
  {
   "cell_type": "code",
   "execution_count": null,
   "id": "c79e53f8-3bb1-425c-8385-c152a8a4df0e",
   "metadata": {},
   "outputs": [],
   "source": []
  },
  {
   "cell_type": "code",
   "execution_count": 9,
   "id": "40c426a2-0e23-4a95-9c00-cdedd8e6304c",
   "metadata": {},
   "outputs": [],
   "source": [
    "# Q6. Create a custom Exception class. Use this class to handle an exception."
   ]
  },
  {
   "cell_type": "code",
   "execution_count": 10,
   "id": "8b43d561-745c-4ac3-affa-3048a1b999cb",
   "metadata": {},
   "outputs": [
    {
     "name": "stdout",
     "output_type": "stream",
     "text": [
      "Custom Exception caught: Cannot divide by zero\n"
     ]
    }
   ],
   "source": [
    "# A6. Here's an example of creating a custom Exception class in Python and using it to handle an exception:\n",
    "class CustomException(Exception):\n",
    "    \"\"\"Custom exception class\"\"\"\n",
    "\n",
    "    def __init__(self, message):\n",
    "        super().__init__(message)\n",
    "        self.message = message\n",
    "\n",
    "\n",
    "def divide_numbers(x, y):\n",
    "    if y == 0:\n",
    "        raise CustomException(\"Cannot divide by zero\")\n",
    "    return x / y\n",
    "\n",
    "\n",
    "# Example of using the custom exception\n",
    "try:\n",
    "    result = divide_numbers(10, 0)\n",
    "except CustomException as e:\n",
    "    print(\"Custom Exception caught:\", e.message)\n",
    "else:\n",
    "    print(\"Result of division:\", result)"
   ]
  },
  {
   "cell_type": "code",
   "execution_count": null,
   "id": "70f8d677-1269-4b14-8af6-be5e76d1ff81",
   "metadata": {},
   "outputs": [],
   "source": []
  }
 ],
 "metadata": {
  "kernelspec": {
   "display_name": "Python 3 (ipykernel)",
   "language": "python",
   "name": "python3"
  },
  "language_info": {
   "codemirror_mode": {
    "name": "ipython",
    "version": 3
   },
   "file_extension": ".py",
   "mimetype": "text/x-python",
   "name": "python",
   "nbconvert_exporter": "python",
   "pygments_lexer": "ipython3",
   "version": "3.10.8"
  }
 },
 "nbformat": 4,
 "nbformat_minor": 5
}
